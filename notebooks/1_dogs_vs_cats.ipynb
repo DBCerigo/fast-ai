{
 "cells": [
  {
   "cell_type": "code",
   "execution_count": 1,
   "metadata": {
    "collapsed": true
   },
   "outputs": [],
   "source": [
    "%matplotlib inline\n",
    "import matplotlib.pyplot as plt\n",
    "plt.style.use('ggplot')"
   ]
  },
  {
   "cell_type": "code",
   "execution_count": 2,
   "metadata": {
    "collapsed": true
   },
   "outputs": [],
   "source": [
    "import os\n",
    "import sys\n",
    "import shutil\n",
    "from glob import glob"
   ]
  },
  {
   "cell_type": "code",
   "execution_count": 3,
   "metadata": {
    "collapsed": true
   },
   "outputs": [],
   "source": [
    "import numpy as np"
   ]
  },
  {
   "cell_type": "code",
   "execution_count": 4,
   "metadata": {},
   "outputs": [
    {
     "name": "stdout",
     "output_type": "stream",
     "text": [
      "/home/ubuntu/p/fast-ai\n"
     ]
    },
    {
     "data": {
      "text/plain": [
       "'/home/ubuntu/p/fast-ai'"
      ]
     },
     "execution_count": 4,
     "metadata": {},
     "output_type": "execute_result"
    }
   ],
   "source": [
    "try:\n",
    "    lock\n",
    "except:\n",
    "    %cd ..\n",
    "    CUR_DIR = os.getcwd()\n",
    "    lock = 'Locked'\n",
    "CUR_DIR"
   ]
  },
  {
   "cell_type": "markdown",
   "metadata": {},
   "source": [
    "# Aims\n",
    "1. Train linear model on VGG16 output to predict cat vs dogs\n",
    "2. Replace final dense layer of VGG16 to predict\n",
    "3. Fine-Train dense VGG16 layers\n",
    "4. Fine-Train whole of VGG16 network"
   ]
  },
  {
   "cell_type": "code",
   "execution_count": 5,
   "metadata": {},
   "outputs": [
    {
     "name": "stdout",
     "output_type": "stream",
     "text": [
      "/home/ubuntu/p/fast-ai/data/cats_dogs/\n",
      "/home/ubuntu/p/fast-ai/data/cats_dogs/sample/\n"
     ]
    }
   ],
   "source": [
    "DATA_PATH = CUR_DIR + '/data/cats_dogs/'; print(DATA_PATH)\n",
    "SAMPLE_PATH = DATA_PATH + 'sample/'; print(SAMPLE_PATH)\n",
    "SPLIT_PATHS = ['train/','val/','test/']\n",
    "CREATE_DATA_SETS = False"
   ]
  },
  {
   "cell_type": "markdown",
   "metadata": {},
   "source": [
    "# Get and setup of data structure"
   ]
  },
  {
   "cell_type": "markdown",
   "metadata": {},
   "source": [
    "Setup kaggle-cli config"
   ]
  },
  {
   "cell_type": "code",
   "execution_count": 6,
   "metadata": {
    "collapsed": true
   },
   "outputs": [],
   "source": [
    "!kg config -u \"dbcerigo\" -c \"dogs-vs-cats-redux-kernels-edition\""
   ]
  },
  {
   "cell_type": "code",
   "execution_count": 8,
   "metadata": {
    "scrolled": false
   },
   "outputs": [],
   "source": [
    "if not os.path.isdir(DATA_PATH):\n",
    "    os.mkdir(DATA_PATH)\n",
    "    %cd {DATA_PATH}\n",
    "    !kg download\n",
    "    !unzip -qn test.zip    \n",
    "    !unzip -qn train.zip\n",
    "    os.mkdir(DATA_PATH+'val')\n",
    "if not os.path.isdir(SAMPLE_PATH):\n",
    "    os.mkdir(SAMPLE_PATH)\n",
    "    for path in SPLIT_PATHS:\n",
    "        os.mkdir(SAMPLE_PATH+SAMPLE_PATH+path)"
   ]
  },
  {
   "cell_type": "code",
   "execution_count": 16,
   "metadata": {},
   "outputs": [
    {
     "name": "stdout",
     "output_type": "stream",
     "text": [
      "\u001b[0m\u001b[01;34munknown\u001b[0m/\r\n"
     ]
    }
   ],
   "source": [
    "ls test"
   ]
  },
  {
   "cell_type": "code",
   "execution_count": 18,
   "metadata": {},
   "outputs": [
    {
     "name": "stdout",
     "output_type": "stream",
     "text": [
      "/home/ubuntu/p/fast-ai/data/cats_dogs\n",
      "2\n",
      "1\n"
     ]
    }
   ],
   "source": [
    "%cd {DATA_PATH}\n",
    "# test size\n",
    "!ls -1 train | wc -l # post creating data should output 2 (cats, dogs)\n",
    "# train size\n",
    "!ls -1 test | wc -l # post creating data should output 1 (unknown)"
   ]
  },
  {
   "cell_type": "code",
   "execution_count": 19,
   "metadata": {
    "scrolled": true
   },
   "outputs": [
    {
     "name": "stdout",
     "output_type": "stream",
     "text": [
      "sample\tsample_submission.csv  test  train  val\n",
      "test  train  val\n"
     ]
    }
   ],
   "source": [
    "!ls {DATA_PATH}\n",
    "!ls sample"
   ]
  },
  {
   "cell_type": "code",
   "execution_count": 20,
   "metadata": {
    "collapsed": true
   },
   "outputs": [],
   "source": [
    "if CREATE_DATA_SETS: \n",
    "    !rm  {DATA_PATH}test.zip\n",
    "    !rm  {DATA_PATH}train.zip"
   ]
  },
  {
   "cell_type": "markdown",
   "metadata": {},
   "source": [
    "### FIRST, seperate off a val set (do first to avoid leaks etc.)"
   ]
  },
  {
   "cell_type": "code",
   "execution_count": 21,
   "metadata": {},
   "outputs": [
    {
     "name": "stdout",
     "output_type": "stream",
     "text": [
      "/home/ubuntu/p/fast-ai/data/cats_dogs/train\n"
     ]
    }
   ],
   "source": [
    "%cd train"
   ]
  },
  {
   "cell_type": "code",
   "execution_count": 22,
   "metadata": {},
   "outputs": [
    {
     "data": {
      "text/plain": [
       "[]"
      ]
     },
     "execution_count": 22,
     "metadata": {},
     "output_type": "execute_result"
    }
   ],
   "source": [
    "im_paths = glob('*.jpg')\n",
    "im_paths[:1]"
   ]
  },
  {
   "cell_type": "code",
   "execution_count": 23,
   "metadata": {},
   "outputs": [],
   "source": [
    "im_paths = np.random.permutation(im_paths)\n",
    "if CREATE_DATA_SETS: \n",
    "    for i in range(2000): os.rename(im_paths[i], DATA_PATH+'val/'+im_paths[i])"
   ]
  },
  {
   "cell_type": "markdown",
   "metadata": {},
   "source": [
    "#### Move sample parts"
   ]
  },
  {
   "cell_type": "code",
   "execution_count": 24,
   "metadata": {},
   "outputs": [
    {
     "name": "stdout",
     "output_type": "stream",
     "text": [
      "/home/ubuntu/p/fast-ai/data/cats_dogs/train\n"
     ]
    }
   ],
   "source": [
    "%cd {DATA_PATH}train\n",
    "im_paths = glob('*.jpg') #get new paths list as don't want to ones that are in val\n",
    "im_paths = np.random.permutation(im_paths)\n",
    "if CREATE_DATA_SETS:\n",
    "    for i in range(100): shutil.copyfile(im_paths[i], SAMPLE_PATH+'train/'+im_paths[i]) "
   ]
  },
  {
   "cell_type": "code",
   "execution_count": 25,
   "metadata": {
    "collapsed": true
   },
   "outputs": [],
   "source": [
    "im_paths = np.random.permutation(im_paths)\n",
    "if CREATE_DATA_SETS:\n",
    "    for i in range(10): shutil.copyfile(im_paths[i], SAMPLE_PATH+'val/'+im_paths[i]) "
   ]
  },
  {
   "cell_type": "code",
   "execution_count": 26,
   "metadata": {},
   "outputs": [
    {
     "name": "stdout",
     "output_type": "stream",
     "text": [
      "/home/ubuntu/p/fast-ai/data/cats_dogs/test\n",
      "/home/ubuntu/p/fast-ai/data/cats_dogs\n"
     ]
    }
   ],
   "source": [
    "%cd {DATA_PATH}test\n",
    "im_paths = glob('*.jpg') \n",
    "im_paths = np.random.permutation(im_paths)\n",
    "if CREATE_DATA_SETS:\n",
    "    for i in range(20): shutil.copyfile(im_paths[i], SAMPLE_PATH+'test/'+im_paths[i]) \n",
    "%cd {DATA_PATH}"
   ]
  },
  {
   "cell_type": "code",
   "execution_count": 27,
   "metadata": {
    "scrolled": true
   },
   "outputs": [
    {
     "name": "stdout",
     "output_type": "stream",
     "text": [
      "/home/ubuntu/p/fast-ai/data/cats_dogs\n",
      "1\n",
      "2\n",
      "sample:\n",
      "test  train  val\n",
      "\n",
      "sample/test:\n",
      "unknown\n",
      "\n",
      "sample/test/unknown:\n",
      "1387.jpg  2586.jpg  3801.jpg  4913.jpg\t6195.jpg  8152.jpg  9078.jpg\n",
      "1633.jpg  272.jpg   4402.jpg  5071.jpg\t6778.jpg  8723.jpg  9290.jpg\n",
      "1940.jpg  3180.jpg  4559.jpg  5241.jpg\t7691.jpg  8856.jpg\n",
      "\n",
      "sample/train:\n",
      "cats  dogs\n",
      "\n",
      "sample/train/cats:\n",
      "cat.10506.jpg  cat.1852.jpg  cat.3930.jpg  cat.6134.jpg  cat.833.jpg\n",
      "cat.10827.jpg  cat.2032.jpg  cat.4018.jpg  cat.6267.jpg  cat.8531.jpg\n",
      "cat.11293.jpg  cat.2071.jpg  cat.4108.jpg  cat.633.jpg\t cat.8691.jpg\n",
      "cat.1138.jpg   cat.2102.jpg  cat.4410.jpg  cat.6383.jpg  cat.9080.jpg\n",
      "cat.11511.jpg  cat.219.jpg   cat.4459.jpg  cat.6420.jpg  cat.9152.jpg\n",
      "cat.11559.jpg  cat.221.jpg   cat.4929.jpg  cat.7076.jpg  cat.9368.jpg\n",
      "cat.1171.jpg   cat.247.jpg   cat.5107.jpg  cat.7203.jpg  cat.9404.jpg\n",
      "cat.11733.jpg  cat.3067.jpg  cat.5122.jpg  cat.7205.jpg  cat.9750.jpg\n",
      "cat.12041.jpg  cat.3120.jpg  cat.5277.jpg  cat.8216.jpg  cat.9800.jpg\n",
      "cat.12131.jpg  cat.3280.jpg  cat.5356.jpg  cat.8288.jpg  cat.9952.jpg\n",
      "cat.1754.jpg   cat.3800.jpg  cat.5932.jpg  cat.8294.jpg\n",
      "\n",
      "sample/train/dogs:\n",
      "dog.10039.jpg  dog.1383.jpg  dog.2594.jpg  dog.6013.jpg  dog.7838.jpg\n",
      "dog.10063.jpg  dog.1448.jpg  dog.283.jpg   dog.6092.jpg  dog.7999.jpg\n",
      "dog.10748.jpg  dog.1526.jpg  dog.2870.jpg  dog.6221.jpg  dog.8097.jpg\n",
      "dog.10873.jpg  dog.1875.jpg  dog.3560.jpg  dog.6327.jpg  dog.8223.jpg\n",
      "dog.11194.jpg  dog.1987.jpg  dog.3686.jpg  dog.643.jpg\t dog.8739.jpg\n",
      "dog.11286.jpg  dog.2025.jpg  dog.3995.jpg  dog.7004.jpg  dog.9880.jpg\n",
      "dog.11300.jpg  dog.2162.jpg  dog.4807.jpg  dog.7038.jpg\n",
      "dog.11417.jpg  dog.2168.jpg  dog.4847.jpg  dog.7298.jpg\n",
      "dog.1158.jpg   dog.2245.jpg  dog.5111.jpg  dog.7323.jpg\n",
      "dog.11662.jpg  dog.2368.jpg  dog.5296.jpg  dog.7569.jpg\n",
      "\n",
      "sample/val:\n",
      "cats  dogs\n",
      "\n",
      "sample/val/cats:\n",
      "cat.11150.jpg  cat.1377.jpg  cat.4688.jpg  cat.6231.jpg\n",
      "\n",
      "sample/val/dogs:\n",
      "dog.1859.jpg  dog.5314.jpg  dog.8880.jpg\n",
      "dog.3236.jpg  dog.5391.jpg  dog.9344.jpg\n"
     ]
    }
   ],
   "source": [
    "%cd {DATA_PATH}\n",
    "# test size\n",
    "!ls -1 test | wc -l\n",
    "# train size\n",
    "!ls -1 train | wc -l\n",
    "!ls -R sample"
   ]
  },
  {
   "cell_type": "code",
   "execution_count": 28,
   "metadata": {},
   "outputs": [],
   "source": [
    "def make_move_class_files(path):\n",
    "    targer_dir =path.split('/')[-2]\n",
    "    assert targer_dir == 'train' or targer_dir == 'val'\n",
    "    %cd {path}\n",
    "    %mkdir cats\n",
    "    %mkdir dogs\n",
    "    %mv cat.*.jpg cats/\n",
    "    %mv dog.*.jpg dogs/"
   ]
  },
  {
   "cell_type": "code",
   "execution_count": 29,
   "metadata": {},
   "outputs": [],
   "source": [
    "def make_move_test_files(path):\n",
    "    assert path.split('/')[-2] == 'test'\n",
    "    %cd {path}\n",
    "    %mkdir unknown\n",
    "    %mv *.jpg unknown/"
   ]
  },
  {
   "cell_type": "code",
   "execution_count": 30,
   "metadata": {},
   "outputs": [],
   "source": [
    "if CREATE_DATA_SETS:\n",
    "    make_move_class_files(SAMPLE_PATH+'train/')\n",
    "    make_move_class_files(SAMPLE_PATH+'val/')\n",
    "    make_move_test_files(SAMPLE_PATH+'test/')\n",
    "    make_move_class_files(DATA_PATH+'train/')\n",
    "    make_move_class_files(DATA_PATH+'val/')\n",
    "    make_move_test_files(DATA_PATH+'test/')"
   ]
  },
  {
   "cell_type": "markdown",
   "metadata": {},
   "source": [
    "# 1. Train linear model on VGG16 output to predict cat vs dogs"
   ]
  },
  {
   "cell_type": "code",
   "execution_count": 31,
   "metadata": {},
   "outputs": [
    {
     "name": "stderr",
     "output_type": "stream",
     "text": [
      "Using TensorFlow backend.\n"
     ]
    }
   ],
   "source": [
    "import keras"
   ]
  },
  {
   "cell_type": "markdown",
   "metadata": {},
   "source": [
    "### On Keras model weights\n",
    "* Model weights can be considered seperate from model\n",
    "* Model is just a DAG, a set of operations (or flow) on a tensor, where the actual values are not yet defined - these are the weights (the types and shapes etc. are defined)\n",
    "\n",
    "* Key uses `keras.utils"
   ]
  },
  {
   "cell_type": "code",
   "execution_count": null,
   "metadata": {
    "collapsed": true
   },
   "outputs": [],
   "source": []
  },
  {
   "cell_type": "code",
   "execution_count": null,
   "metadata": {},
   "outputs": [
    {
     "name": "stdout",
     "output_type": "stream",
     "text": [
      "Downloading data from https://github.com/fchollet/deep-learning-models/releases/download/v0.1/vgg16_weights_tf_dim_ordering_tf_kernels.h5\n"
     ]
    }
   ],
   "source": [
    "vgg = keras.applications.vgg16.VGG16(include_top=True, weights='imagenet',\n",
    "                               input_tensor=None, input_shape=None,\n",
    "                               pooling=None, classes=1000)"
   ]
  },
  {
   "cell_type": "code",
   "execution_count": null,
   "metadata": {
    "collapsed": true
   },
   "outputs": [],
   "source": [
    "print('test')"
   ]
  },
  {
   "cell_type": "code",
   "execution_count": null,
   "metadata": {
    "collapsed": true
   },
   "outputs": [],
   "source": []
  }
 ],
 "metadata": {
  "kernelspec": {
   "display_name": "Python 3",
   "language": "python",
   "name": "python3"
  },
  "language_info": {
   "codemirror_mode": {
    "name": "ipython",
    "version": 3
   },
   "file_extension": ".py",
   "mimetype": "text/x-python",
   "name": "python",
   "nbconvert_exporter": "python",
   "pygments_lexer": "ipython3",
   "version": "3.6.2"
  }
 },
 "nbformat": 4,
 "nbformat_minor": 2
}
